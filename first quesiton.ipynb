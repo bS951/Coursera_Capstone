{
 "cells": [
  {
   "cell_type": "code",
   "execution_count": 2,
   "metadata": {},
   "outputs": [
    {
     "name": "stdout",
     "output_type": "stream",
     "text": [
      "    PostalCode      Borough                                       Neighborhood\n",
      "0          M1B  Scarborough                                     Malvern, Rouge\n",
      "1          M1C  Scarborough             Rouge Hill, Port Union, Highland Creek\n",
      "2          M1E  Scarborough                  Guildwood, Morningside, West Hill\n",
      "3          M1G  Scarborough                                             Woburn\n",
      "4          M1H  Scarborough                                          Cedarbrae\n",
      "..         ...          ...                                                ...\n",
      "98         M9N         York                                             Weston\n",
      "99         M9P    Etobicoke                                          Westmount\n",
      "100        M9R    Etobicoke  Kingsview Village, St. Phillips, Martin Grove ...\n",
      "101        M9V    Etobicoke  South Steeles, Silverstone, Humbergate, Jamest...\n",
      "102        M9W    Etobicoke                Northwest, West Humber - Clairville\n",
      "\n",
      "[103 rows x 3 columns]\n"
     ]
    }
   ],
   "source": [
    "import pandas as pd \n",
    "import wikipedia as wp # adding wikipedia library to make my self able to get the information from the given page \n",
    "html = wp.page(\"List of postal codes of Canada: M\").html().encode(\"UTF-8\") # getting the html page \n",
    "df = pd.read_html(html , header = 0)[0] #selection the table from  the page \n",
    "oldDf = df[df.Borough != 'Not assigned'] #filtering Borough\n",
    "df = oldDf.groupby(['PostalCode', 'Borough'])['Neighborhood'].apply(list).apply(lambda x:', '.join(x)) \n",
    "#  adding apply(list) to make me able to transfer the group object to a data frame later \n",
    "#   adding the (,) if there are more than one string by using lambda and join methods \n",
    "myFinalDF = df.to_frame().reset_index() #Converting the group object to data frame and reseting the index \n",
    "for index, row in myFinalDF.iterrows(): \n",
    "    if row['Neighborhood'] == 'Not assigned': # too obvious isn't it ? \n",
    "        row['Neighborhood'] = row['Borough']\n",
    "print(myFinalDF)\n"
   ]
  },
  {
   "cell_type": "code",
   "execution_count": null,
   "metadata": {},
   "outputs": [],
   "source": []
  }
 ],
 "metadata": {
  "kernelspec": {
   "display_name": "Python 3",
   "language": "python",
   "name": "python3"
  },
  "language_info": {
   "codemirror_mode": {
    "name": "ipython",
    "version": 3
   },
   "file_extension": ".py",
   "mimetype": "text/x-python",
   "name": "python",
   "nbconvert_exporter": "python",
   "pygments_lexer": "ipython3",
   "version": "3.8.3"
  }
 },
 "nbformat": 4,
 "nbformat_minor": 4
}
