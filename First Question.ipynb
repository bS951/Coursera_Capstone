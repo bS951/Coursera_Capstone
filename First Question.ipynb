{
 "cells": [
  {
   "cell_type": "code",
   "execution_count": null,
   "metadata": {},
   "outputs": [],
   "source": [
    "import pandas as pd \n",
    "import wikipedia as wp # adding wikipedia library to make my self able to get the information from the given page \n",
    "html = wp.page(\"List of postal codes of Canada: M\").html().encode(\"UTF-8\") # getting the html page \n",
    "df = pd.read_html(html , header = 0)[0] #selection the table from  the page \n",
    "oldDf = df[df.Borough != 'Not assigned'] #filtering Borough\n",
    "df = oldDf.groupby(['Post Code', 'Borough'])['Neighborhood'].apply(list).apply(lambda x:', '.join(x)) \n",
    "#  adding apply(list) to make me able to transfer the group object to a data frame later \n",
    "#   adding the (,) if there are more than one string by using lambda and join methods \n",
    "myFinalDF = df.to_frame().reset_index() #Converting the group object to data frame and reseting the index \n",
    "for index, row in myFinalDF.iterrows(): \n",
    "    if row['Neighborhood'] == 'Not assigned': # too obvious isn't it ? \n",
    "        row['Neighborhood'] = row['Borough']\n",
    "print(myFinalDF.shape)\n"
   ]
  }
 ],
 "metadata": {
  "kernelspec": {
   "display_name": "Python 3",
   "language": "python",
   "name": "python3"
  },
  "language_info": {
   "codemirror_mode": {
    "name": "ipython",
    "version": 3
   },
   "file_extension": ".py",
   "mimetype": "text/x-python",
   "name": "python",
   "nbconvert_exporter": "python",
   "pygments_lexer": "ipython3",
   "version": "3.8.3"
  }
 },
 "nbformat": 4,
 "nbformat_minor": 4
}
